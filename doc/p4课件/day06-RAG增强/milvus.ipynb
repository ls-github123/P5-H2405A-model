{
 "cells": [
  {
   "cell_type": "markdown",
   "metadata": {},
   "source": [
    "# Milvus 简介\n",
    "\n",
    "## 简介\n",
    "\n",
    "Milvus 是一个开源的向量数据库，旨在解决向量搜索问题。Milvus 支持向量搜索、向量索引、向量存储、向量搜索服务、向量数据管理、向量数据可视化等功能。\n",
    "\n",
    "Milvus 支持 Python、Java、C++、Go、Rust、JavaScript 等语言，支持 CPU 和 GPU 硬件加速。\n",
    "\n",
    "Milvus 支持多种索引类型，包括 Flat、IVF_FLAT、IVF_SQ8、IVF_PQ、HNSW\n",
    "\n",
    "Milvus 支持多种向量距离计算方式，包括 L2、IP、Cosine。\n",
    "\n",
    "Milvus 支持多种数据存储方式，包括 Memory、Mmap、S3、MinIO、Local。\n",
    "\n",
    "Milvus 支持多种数据可视化方式，包括 Milvus Web、Milvus Dashboard、Milvus WebUI、Milvus Grafana。\n",
    "\n",
    "官网：https://milvus.io/\n"
   ]
  },
  {
   "cell_type": "markdown",
   "metadata": {},
   "source": [
    "## 架构\n",
    "\n",
    "Milvus 2.0 是一款云原生向量数据库，采用​存储与计算分离​的架构设计，所有组件均为无状态组件，极大地增强了系统弹性和灵活性。\n",
    "\n",
    "![image](assets\\image-20240630234444648.png)\n",
    "\n",
    "整个系统分为四个层次：\n",
    " \n",
    " 接入层（Access Layer）：系统的门面，由一组无状态 proxy 组成。对外提供用户连接的 endpoint，负责验证客户端请求并合并返回结果。\n",
    " \n",
    " 服务层（Coordinator Service）：系统的大脑，负责分配任务给执行节点。协调服务共有四种角色，分别为 root coord、data coord、query coord 和 index coord。\n",
    " \n",
    " 执行节点（Worker Node）：系统的四肢，负责完成协调服务下发的指令和 proxy 发起的数据操作语言（DML）命令。执行节点分为三种角色，分别为 data node、query node 和 index node。\n",
    " \n",
    " 存储服务 （Storage）： 系统的骨骼，负责 Milvus 数据的持久化，分为元数据存储（meta store）、消息存储（log broker）和对象存储（object storage）三个部分。"
   ]
  },
  {
   "cell_type": "markdown",
   "metadata": {},
   "source": [
    "## 基本概念\n",
    "\n",
    "### db\n",
    "\n",
    "数据库\n",
    "\n",
    "### Collection\n",
    "包含一组 entity，可以等价于关系型数据库系统（RDBMS）中的表。\n",
    "\n",
    "### Entity\n",
    "包含一组 field。field 与实际对象相对应。field 可以是代表对象属性的结构化数据，也可以是代表对象特征的向量。primary key 是用于指代一个 entity 的唯一值。\n",
    "\n",
    "​**注意：**​ 你可以自定义 primary key，否则 Milvus 将会自动生成 primary key。请注意，目前 Milvus 不支持 primary key 去重，因此有可能在一个 collection 内出现 primary key 相同的 entity。\n",
    "\n",
    "### Field\n",
    "Entity 的组成部分。​​Field​​ 可以是结构化数据，例如数字和字符串，也可以是向量。\n",
    "\n",
    "​**注意：**​\n",
    "\n",
    "Milvus 2.0 现已支持标量字段过滤。并且，Milvus 2.0 在一个集合中只支持一个主键字段。\n"
   ]
  },
  {
   "cell_type": "markdown",
   "metadata": {},
   "source": [
    "### Milvus 与关系型数据库的对应关系如下：\n",
    "\n",
    "| Milvus向量数据库 | 关系型数据库 |\n",
    "| ---- | ---- |\n",
    "| Collection | 表 |\n",
    "| Entity | 行 |\n",
    "| Field | 字段 |\n",
    "\n",
    "### Partition\n",
    "分区是集合（Collection）的一个分区。Milvus 支持将收集数据划分为物理存储上的多个部分。这个过程称为分区，每个分区可以包含多个段。\n",
    "\n",
    "### Segment\n",
    "Milvus 在数据插入时，通过合并数据自动创建的数据文件。一个 collection 可以包含多个 segment。一个 segment 可以包含多个 entity。在搜索中，Milvus 会搜索每个 segment，并返回合并后的结果。"
   ]
  },
  {
   "cell_type": "markdown",
   "metadata": {},
   "source": [
    "### Sharding\n",
    "Shard 是指将数据写入操作分散到不同节点上，使 Milvus 能充分利用集群的并行计算能力进行写入。默认情况下，单个 Collection 包含 2 个分片（Shard）。目前 Milvus 采用基于​主键哈希​的分片方式，未来将支持随机分片、自定义分片等更加灵活的分片方式。\n",
    "\n",
    "​**注意：**​ 分区的意义在于通过划定分区减少数据读取，而分片的意义在于多台机器上并行写入操作。"
   ]
  },
  {
   "cell_type": "markdown",
   "metadata": {},
   "source": [
    "### 索引\n",
    "索引基于原始数据构建，可以提高对 collection 数据搜索的速度。Milvus 支持多种​​索引类型​​。为提高查询性能，你可以为每个向量字段指定一种索引类型。目前，一个向量字段仅支持一种索引类型。切换索引类型时，Milvus 自动删除之前的索引。"
   ]
  },
  {
   "cell_type": "markdown",
   "metadata": {},
   "source": [
    "## 数据类型\n",
    "```\n",
    "Primary key field supports:\n",
    "\n",
    "INT64: numpy.int64\n",
    "VARCHAR: VARCHAR\n",
    "Scalar field supports:\n",
    "\n",
    "BOOL: Boolean (true or false)\n",
    "INT8: numpy.int8\n",
    "INT16: numpy.int16\n",
    "INT32: numpy.int32\n",
    "INT64: numpy.int64\n",
    "FLOAT: numpy.float32\n",
    "DOUBLE: numpy.double\n",
    "VARCHAR: VARCHAR\n",
    "JSON: JSON\n",
    "Array: Array\n",
    "```"
   ]
  },
  {
   "cell_type": "markdown",
   "metadata": {},
   "source": [
    "# Milvus 安装\n",
    "\n",
    "## docker安装 Milvus\n",
    "\n",
    "```\n",
    "curl -sfL https://raw.githubusercontent.com/milvus-io/milvus/master/scripts/standalone_embed.sh -o standalone_embed.sh\n",
    "\n",
    "bash standalone_embed.sh start\n",
    "```"
   ]
  },
  {
   "cell_type": "markdown",
   "metadata": {},
   "source": [
    "## docker compose 安装 milvus\n",
    "### 在线安装\n",
    "```\n",
    "wget https://github.com/milvus-io/milvus/releases/download/v2.4.5/milvus-standalone-docker-compose.yml -O docker-compose.yml\n",
    "\n",
    "sudo docker compose up -d\n",
    "\n",
    "Creating milvus-etcd  ... done\n",
    "Creating milvus-minio ... done\n",
    "Creating milvus-standalone ... done\n",
    "```"
   ]
  },
  {
   "cell_type": "markdown",
   "metadata": {},
   "source": [
    "### 离线安装\n",
    "\n",
    "docker 导出命令\n",
    "```\n",
    "docker save etcd:2.3.10 > etcd2_3_10.tar\n",
    "```\n",
    "\n",
    "docker 导入命令\n",
    "```\n",
    "docker load < etcd2_3_10.tar\n",
    "docker load < minio2_3_10.tar\n",
    "docker load < milvus2_3_10.tar\n",
    "``` "
   ]
  },
  {
   "cell_type": "markdown",
   "metadata": {},
   "source": [
    "### 启动 milvus\n",
    "```\n",
    "# 启动\n",
    "docker compose up -d\n",
    "# 停止\n",
    "docker compose down\n",
    "```"
   ]
  },
  {
   "cell_type": "markdown",
   "metadata": {},
   "source": [
    "## Milvus Python SDK\n",
    "\n",
    "pip install pymilvus"
   ]
  },
  {
   "cell_type": "markdown",
   "metadata": {},
   "source": [
    "## Milvus 客户端工具attu\n",
    "\n",
    "```\n",
    "Attu是Milvus的官方可视化工具，值得注意的一点是，两者的版本需要匹配\n",
    "\n",
    "官方文档：https://milvus.io/docs/v2.0.x/attu_install-docker.md\n",
    "\n",
    "github: https://github.com/milvus-io/attu\n",
    "\n",
    "访问地址：\n",
    "http://[你的服务IP]:3000/?#/connect\n",
    "\n",
    "```"
   ]
  },
  {
   "cell_type": "markdown",
   "metadata": {},
   "source": [
    "# 常用操作\n",
    "\n",
    "## 1、数据库链接"
   ]
  },
  {
   "cell_type": "code",
   "execution_count": null,
   "metadata": {},
   "outputs": [],
   "source": [
    "from pymilvus import connections\n",
    "\n",
    "connections.connect(host=\"127.0.0.1\", port=19530)\n",
    "\n",
    "connections.connect(host=\"127.0.0.1\", port=19530, db_name=\"default\")"
   ]
  },
  {
   "cell_type": "code",
   "execution_count": null,
   "metadata": {},
   "outputs": [],
   "source": [
    "\n",
    "from pymilvus import MilvusClient\n",
    "client = MilvusClient(uri=\"http://127.0.0.1:19530\")\n",
    "client = MilvusClient(uri=\"http://127.0.0.1:19530\",  db_name=\"default\")"
   ]
  },
  {
   "cell_type": "markdown",
   "metadata": {},
   "source": [
    "## 2、数据库管理"
   ]
  },
  {
   "cell_type": "code",
   "execution_count": 2,
   "metadata": {},
   "outputs": [
    {
     "data": {
      "text/plain": [
       "['default', 'knowledge']"
      ]
     },
     "execution_count": 2,
     "metadata": {},
     "output_type": "execute_result"
    }
   ],
   "source": [
    "from pymilvus import connections, db\n",
    "\n",
    "connections.connect(host=\"127.0.0.1\", port=19530)\n",
    "\n",
    "# 查看数据库列表\n",
    "db.list_database()\n",
    "\n",
    "# 添加数据库\n",
    "# database = db.create_database(\"knowledge\")\n",
    "\n",
    "# # 删除数据库\n",
    "# db.drop_database(\"book\")\n",
    "\n",
    "# # 切换数据库\n",
    "# db.using_database(\"knowledge\")\n",
    "\n",
    "# db.list_database()"
   ]
  },
  {
   "cell_type": "markdown",
   "metadata": {},
   "source": [
    "## 3、表管理\n",
    "\n",
    "### 快速创建表\n",
    "\n",
    "快速创建表只需要输入表名和向量维度，生成的表只包含两个字段:id(作为主键)和vector(作为矢量字段)，默认情况下启用auto_id和enable_dynamic_field设置。\n",
    "\n",
    "auto_id：是否自动生成id，默认为true。\n",
    "\n",
    "enable_dynamic_field：是否可以动态新增字段，默认为false。\n"
   ]
  },
  {
   "cell_type": "code",
   "execution_count": 1,
   "metadata": {},
   "outputs": [
    {
     "data": {
      "text/plain": [
       "['knowledge1', 'quick_setup', 'customized_setup', 'hello_milvus']"
      ]
     },
     "execution_count": 1,
     "metadata": {},
     "output_type": "execute_result"
    }
   ],
   "source": [
    "from pymilvus import MilvusClient\n",
    "client = MilvusClient(\n",
    "    uri=\"http://127.0.0.1:19530\",\n",
    "    db_name=\"default\"\n",
    ")\n",
    "\n",
    "# 创建表\n",
    "client.create_collection(\n",
    "    collection_name=\"knowledge\",  # 表名\n",
    "    dimension=5,   # 向量维度\n",
    "    auto_id=True,\n",
    "    enable_dynamic_field=True\n",
    ")\n",
    "\n",
    "# 查看表\n",
    "# client.list_collections()\n",
    "\n",
    "# 删除表\n",
    "# client.drop_collection(\"knowledge\")\n",
    "\n",
    "# 查看表是否存在\n",
    "# client.has_collection(\"quick_setup\")\n",
    "\n",
    "# 查看表状态\n",
    "# client.get_load_state(\"quick_setup\")\n",
    "\n",
    "# \n",
    "# client.get_collection_stats(\"quick_setup\")\n",
    "\n",
    "# 查看表描述\n",
    "client.describe_collection(collection_name=\"knowledge\")"
   ]
  },
  {
   "cell_type": "markdown",
   "metadata": {},
   "source": [
    "### 自定义创建表"
   ]
  },
  {
   "cell_type": "code",
   "execution_count": null,
   "metadata": {},
   "outputs": [],
   "source": [
    "from pymilvus import MilvusClient, DataType\n",
    "# 3. Create a collection in customized setup mode\n",
    "\n",
    "# 3.1. Create schema\n",
    "schema = MilvusClient.create_schema(\n",
    "    auto_id=False,\n",
    "    enable_dynamic_field=True,\n",
    ")\n",
    "\n",
    "# 3.2. Add fields to schema\n",
    "schema.add_field(field_name=\"my_id\", datatype=DataType.INT64, is_primary=True)\n",
    "schema.add_field(field_name=\"my_vector\", datatype=DataType.FLOAT_VECTOR, dim=5)\n",
    "\n",
    "# 3.3 准备索引parameters\n",
    "index_params = client.prepare_index_params()\n",
    "\n",
    "# 3.4 添加索引\n",
    "index_params.add_index(\n",
    "    field_name=\"my_id\",\n",
    "    index_type=\"STL_SORT\"\n",
    ")\n",
    "\n",
    "index_params.add_index(\n",
    "    field_name=\"my_vector\", \n",
    "    index_type=\"IVF_FLAT\",\n",
    "    metric_type=\"IP\",\n",
    "    params={ \"nlist\": 128 }\n",
    ")\n"
   ]
  },
  {
   "cell_type": "markdown",
   "metadata": {},
   "source": [
    "### 使用schema创建表"
   ]
  },
  {
   "cell_type": "code",
   "execution_count": null,
   "metadata": {},
   "outputs": [],
   "source": [
    "\n",
    "from pymilvus import FieldSchema,DataType,CollectionSchema,Collection,connections\n",
    "\n",
    "connections.connect(\"default\", host=\"127.0.0.1\", port=\"19530\")\n",
    "\n",
    "fields = [\n",
    "            FieldSchema(name=\"id\", dtype=DataType.INT64, auto_id=True, is_primary=True),\n",
    "            FieldSchema(name=\"chunk_id\", dtype=DataType.VARCHAR, max_length=256, description=\"id\"),\n",
    "            FieldSchema(name=\"file_id\", dtype=DataType.VARCHAR, max_length=256, description=\"文件id\"),\n",
    "            FieldSchema(name=\"file_valid\", dtype=DataType.INT8, default_value=1, description=\"文件有效\"),\n",
    "            FieldSchema(name=\"chunk_valid\", dtype=DataType.INT8, default_value=0, description=\"块有效\"),\n",
    "            FieldSchema(name=\"embedding\", dtype=DataType.FLOAT_VECTOR, dim = 1536 , description=\"vector\")\n",
    "        ]\n",
    "schema = CollectionSchema(fields, \"这是一个文档知识库表\")\n",
    "\n",
    "Collection(name=\"knowledge\", schema=schema)"
   ]
  },
  {
   "cell_type": "markdown",
   "metadata": {},
   "source": [
    "### 加载和释放"
   ]
  },
  {
   "cell_type": "code",
   "execution_count": null,
   "metadata": {},
   "outputs": [],
   "source": [
    "# 7. Load the collection\n",
    "client.load_collection(\n",
    "    collection_name=\"knowledge\",\n",
    "    replica_number=1 # Number of replicas to create on query nodes. Max value is 1 for Milvus Standalone, and no greater than `queryNode.replicas` for Milvus Cluster.\n",
    ")\n",
    "\n",
    "res = client.get_load_state(\n",
    "    collection_name=\"knowledge\"\n",
    ")\n",
    "\n",
    "# 8. Release the collection\n",
    "client.release_collection(\n",
    "    collection_name=\"knowledge\"\n",
    ")\n",
    "\n",
    "res = client.get_load_state(\n",
    "    collection_name=\"knowledge\"\n",
    ")\n",
    "\n",
    "print(res)"
   ]
  },
  {
   "cell_type": "markdown",
   "metadata": {},
   "source": [
    "### 别名"
   ]
  },
  {
   "cell_type": "code",
   "execution_count": null,
   "metadata": {},
   "outputs": [],
   "source": [
    "# 9.1. Create aliases\n",
    "client.create_alias(\n",
    "    collection_name=\"knowledge\",\n",
    "    alias=\"bob\"\n",
    ")\n",
    "\n",
    "# 9.2. List aliases\n",
    "res = client.list_aliases(\n",
    "    collection_name=\"customized_setup_2\"\n",
    ")\n",
    "print(res)\n",
    "\n",
    "# 9.3. Describe aliases\n",
    "res = client.describe_alias(\n",
    "    alias=\"bob\"\n",
    ")\n",
    "print(res)"
   ]
  },
  {
   "cell_type": "markdown",
   "metadata": {},
   "source": [
    "## 4、分区管理\n",
    "\n",
    "Milvus 中的分区代表集合的细分。此功能允许将集合的物理存储划分为多个部分，通过将焦点缩小到较小的数据子集而不是整个集合，有助于提高查询性能。创建集合时，至少会自动创建一个名为 _default 的默认分区。您最多可以在一个集合中创建 4,096 个分区。"
   ]
  },
  {
   "cell_type": "code",
   "execution_count": null,
   "metadata": {},
   "outputs": [],
   "source": [
    "from pymilvus import MilvusClient, DataType\n",
    "\n",
    "# 1. Set up a Milvus client\n",
    "client = MilvusClient(\n",
    "    uri=\"http://gfancy.cn:19530\"\n",
    ")"
   ]
  },
  {
   "cell_type": "code",
   "execution_count": 3,
   "metadata": {},
   "outputs": [],
   "source": [
    "# 2. Create a collection\n",
    "if not client.has_collection(\"quick_setup\"): \n",
    "    client.create_collection(\n",
    "        collection_name=\"quick_setup\",\n",
    "        dimension=5,\n",
    "    )"
   ]
  },
  {
   "cell_type": "code",
   "execution_count": 4,
   "metadata": {},
   "outputs": [
    {
     "data": {
      "text/plain": [
       "['_default']"
      ]
     },
     "execution_count": 4,
     "metadata": {},
     "output_type": "execute_result"
    }
   ],
   "source": [
    "# 3. List partitions\n",
    "client.list_partitions(collection_name=\"quick_setup\")\n"
   ]
  },
  {
   "cell_type": "markdown",
   "metadata": {},
   "source": [
    "### 创建删除分区"
   ]
  },
  {
   "cell_type": "code",
   "execution_count": 11,
   "metadata": {},
   "outputs": [],
   "source": [
    "client = MilvusClient(\n",
    "    uri=\"http://gfancy.cn:19530\",\n",
    "    db_name=\"knowledge_zgh\"\n",
    ")"
   ]
  },
  {
   "cell_type": "code",
   "execution_count": 13,
   "metadata": {},
   "outputs": [],
   "source": [
    "client.create_collection(\n",
    "    collection_name=\"quick_setup\",\n",
    "    dimension=5,\n",
    ")"
   ]
  },
  {
   "cell_type": "code",
   "execution_count": 14,
   "metadata": {},
   "outputs": [],
   "source": [
    "# 4. Create more partitions\n",
    "client.create_partition(\n",
    "    collection_name=\"quick_setup\",\n",
    "    partition_name=\"partitionA\"\n",
    ")\n",
    "\n",
    "client.create_partition(\n",
    "    collection_name=\"quick_setup\",\n",
    "    partition_name=\"partitionB\"\n",
    ")\n"
   ]
  },
  {
   "cell_type": "code",
   "execution_count": null,
   "metadata": {},
   "outputs": [],
   "source": [
    "# 删除分区\n",
    "client.drop_partition(\n",
    "    collection_name=\"quick_setup\",\n",
    "    partition_name=\"partitionB\"\n",
    ")"
   ]
  },
  {
   "cell_type": "markdown",
   "metadata": {},
   "source": [
    "### 查看分区"
   ]
  },
  {
   "cell_type": "code",
   "execution_count": 15,
   "metadata": {},
   "outputs": [
    {
     "name": "stdout",
     "output_type": "stream",
     "text": [
      "['_default', 'partitionA', 'partitionB']\n"
     ]
    }
   ],
   "source": [
    "res = client.list_partitions(collection_name=\"quick_setup\")\n",
    "print(res)\n",
    "\n",
    "# 5. Check whether a partition exists\n",
    "res = client.has_partition(collection_name=\"quick_setup\", partition_name=\"partitionA\")\n",
    "print(res)"
   ]
  },
  {
   "cell_type": "markdown",
   "metadata": {},
   "source": [
    "### 加载释放"
   ]
  },
  {
   "cell_type": "code",
   "execution_count": 18,
   "metadata": {},
   "outputs": [],
   "source": [
    "# 7. Release a partition\n",
    "client.release_partitions(\n",
    "    collection_name=\"quick_setup\",\n",
    "    partition_names=[\"partitionA\"]\n",
    ")\n",
    "client.get_load_state(collection_name=\"quick_setup\",  partition_name=\"partitionA\")"
   ]
  },
  {
   "cell_type": "code",
   "execution_count": 20,
   "metadata": {},
   "outputs": [],
   "source": [
    "client.load_partitions(\n",
    "    collection_name=\"quick_setup\",\n",
    "    partition_names=[\"partitionA\", \"partitionB\"]\n",
    ")\n",
    "client.get_load_state(collection_name=\"quick_setup\",  partition_name=\"partitionA\")"
   ]
  },
  {
   "cell_type": "markdown",
   "metadata": {},
   "source": [
    "## 3、数据增删改查\n",
    "\n",
    "- 插入数据\n",
    " client.insert\n",
    "\n",
    "- 更新数据\n",
    " client.upsert\n",
    "\n",
    "- 删除数据\n",
    " client.delete\n",
    "\n",
    "- 查询数据\n",
    " client.get\n",
    "\n"
   ]
  },
  {
   "cell_type": "code",
   "execution_count": null,
   "metadata": {},
   "outputs": [],
   "source": [
    "from pymilvus import MilvusClient, DataType\n",
    "\n",
    "# 1. Set up a Milvus client\n",
    "client = MilvusClient(\n",
    "    uri=\"http://localhost:19530\"\n",
    ")\n",
    "\n",
    "# 2. Create a collection in quick setup mode\n",
    "# client.create_collection(\n",
    "#     collection_name=\"quick_setup\",\n",
    "#     dimension=5\n",
    "# )\n",
    "\n",
    "client.list_collections()"
   ]
  },
  {
   "cell_type": "code",
   "execution_count": null,
   "metadata": {},
   "outputs": [],
   "source": [
    "data=[\n",
    "    {\"id\": 0, \"vector\": [0.3580376395471989, -0.6023495712049978, 0.18414012509913835, -0.26286205330961354, 0.9029438446296592], \"color\": \"pink_8682\"},\n",
    "    {\"id\": 1, \"vector\": [0.19886812562848388, 0.06023560599112088, 0.6976963061752597, 0.2614474506242501, 0.838729485096104], \"color\": \"red_7025\"},\n",
    "    {\"id\": 2, \"vector\": [0.43742130801983836, -0.5597502546264526, 0.6457887650909682, 0.7894058910881185, 0.20785793220625592], \"color\": \"orange_6781\"},\n",
    "    {\"id\": 3, \"vector\": [0.3172005263489739, 0.9719044792798428, -0.36981146090600725, -0.4860894583077995, 0.95791889146345], \"color\": \"pink_9298\"},\n",
    "    {\"id\": 4, \"vector\": [0.4452349528804562, -0.8757026943054742, 0.8220779437047674, 0.46406290649483184, 0.30337481143159106], \"color\": \"red_4794\"},\n",
    "    {\"id\": 5, \"vector\": [0.985825131989184, -0.8144651566660419, 0.6299267002202009, 0.1206906911183383, -0.1446277761879955], \"color\": \"yellow_4222\"},\n",
    "    {\"id\": 6, \"vector\": [0.8371977790571115, -0.015764369584852833, -0.31062937026679327, -0.562666951622192, -0.8984947637863987], \"color\": \"red_9392\"},\n",
    "    {\"id\": 7, \"vector\": [-0.33445148015177995, -0.2567135004164067, 0.8987539745369246, 0.9402995886420709, 0.5378064918413052], \"color\": \"grey_8510\"},\n",
    "    {\"id\": 8, \"vector\": [0.39524717779832685, 0.4000257286739164, -0.5890507376891594, -0.8650502298996872, -0.6140360785406336], \"color\": \"white_9381\"},\n",
    "    {\"id\": 9, \"vector\": [0.5718280481994695, 0.24070317428066512, -0.3737913482606834, -0.06726932177492717, -0.6980531615588608], \"color\": \"purple_4976\"}\n",
    "]\n",
    "\n",
    "res = client.insert(\n",
    "    collection_name=\"quick_setup\",\n",
    "    data=data\n",
    ")\n",
    "\n",
    "print(res)"
   ]
  },
  {
   "cell_type": "code",
   "execution_count": null,
   "metadata": {},
   "outputs": [],
   "source": [
    "# 6. Upsert data in partitions\n",
    "data=[\n",
    "    {\"id\": 9, \"vector\": [0.06998888224297328, 0.8582816610326578, -0.9657938677934292, 0.6527905683627726, -0.8668460657158579], \"color\": \"black_3000\"},\n",
    "    {\"id\": 10, \"vector\": [0.06998888224297328, 0.8582816610326578, -0.9657938677934292, 0.6527905683627726, -0.8668460657158576], \"color\": \"black_3651\"},\n",
    "    {\"id\": 11, \"vector\": [0.6060703043917468, -0.3765080534566074, -0.7710758854987239, 0.36993888322346136, 0.5507513364206531], \"color\": \"grey_2049\"},\n",
    "    {\"id\": 12, \"vector\": [-0.9041813104515337, -0.9610546012461163, 0.20033003106083358, 0.11842506351635174, 0.8327356724591011], \"color\": \"blue_6168\"},\n",
    "    {\"id\": 13, \"vector\": [0.3202914977909075, -0.7279137773695252, -0.04747830871620273, 0.8266053056909548, 0.8277957187455489], \"color\": \"blue_1672\"},\n",
    "    {\"id\": 14, \"vector\": [0.2975811497890859, 0.2946936202691086, 0.5399463833894609, 0.8385334966677529, -0.4450543984655133], \"color\": \"pink_1601\"},\n",
    "    {\"id\": 15, \"vector\": [-0.04697464305600074, -0.08509022265734134, 0.9067184632552001, -0.2281912685064822, -0.9747503428652762], \"color\": \"yellow_9925\"},\n",
    "    {\"id\": 16, \"vector\": [-0.9363075919673911, -0.8153981031085669, 0.7943039120490902, -0.2093886809842529, 0.0771191335807897], \"color\": \"orange_9872\"},\n",
    "    {\"id\": 17, \"vector\": [-0.050451522820639916, 0.18931572752321935, 0.7522886192190488, -0.9071793089474034, 0.6032647330692296], \"color\": \"red_6450\"},\n",
    "    {\"id\": 18, \"vector\": [-0.9181544231141592, 0.6700755998126806, -0.014174674636136642, 0.6325780463623432, -0.49662222164032976], \"color\": \"purple_7392\"},\n",
    "    {\"id\": 19, \"vector\": [0.11426945899602536, 0.6089190684002581, -0.5842735738352236, 0.057050610092692855, -0.035163433018196244], \"color\": \"pink_4996\"}\n",
    "]\n",
    "\n",
    "res = client.upsert(\n",
    "    collection_name=\"quick_setup\",\n",
    "    data=data\n",
    ")\n",
    "\n",
    "print(res)"
   ]
  },
  {
   "cell_type": "code",
   "execution_count": null,
   "metadata": {},
   "outputs": [],
   "source": [
    "# 7. Delete entities\n",
    "client.delete(\n",
    "    collection_name=\"quick_setup\",\n",
    "    filter=\"id in [4,5,6]\"\n",
    ")\n",
    "\n",
    "client.delete(\n",
    "    collection_name=\"quick_setup\",\n",
    "    ids=[18, 19]\n",
    ")"
   ]
  },
  {
   "cell_type": "code",
   "execution_count": null,
   "metadata": {},
   "outputs": [],
   "source": [
    "client.get(\n",
    "    collection_name=\"quick_setup\",\n",
    "    ids=[0, 1, 2]\n",
    ")"
   ]
  },
  {
   "cell_type": "markdown",
   "metadata": {},
   "source": [
    "## 4、构建索引\n",
    "\n",
    "只有使用索引，向量检索时才快，不然会使用暴力搜索方式。\n",
    "\n",
    "索引选择可以参考 https://milvus.io/docs/index.md"
   ]
  },
  {
   "cell_type": "code",
   "execution_count": null,
   "metadata": {},
   "outputs": [],
   "source": [
    "from pymilvus import MilvusClient, DataType\n",
    "\n",
    "client = MilvusClient(\n",
    "    uri=\"http://localhost:19530\"\n",
    ")\n",
    "\n",
    "schema = MilvusClient.create_schema(\n",
    "    auto_id=False,\n",
    "    enable_dynamic_field=True,\n",
    ")\n",
    "\n",
    "schema.add_field(field_name=\"id\", datatype=DataType.INT64, is_primary=True)\n",
    "schema.add_field(field_name=\"vector\", datatype=DataType.FLOAT_VECTOR, dim=5)\n",
    "\n",
    "client.create_collection(\n",
    "    collection_name=\"customized_setup\", \n",
    "    schema=schema, \n",
    ")\n",
    "\n",
    "client.list_collections()"
   ]
  },
  {
   "cell_type": "code",
   "execution_count": null,
   "metadata": {},
   "outputs": [],
   "source": [
    "index_params = MilvusClient.prepare_index_params()\n",
    "\n",
    "index_params.add_index(\n",
    "    field_name=\"vector\",\n",
    "    metric_type=\"COSINE\",\n",
    "    index_type=\"IVF_FLAT\",\n",
    "    index_name=\"vector_index\",\n",
    "    params={ \"nlist\": 128 }\n",
    ")\n",
    "\n",
    "client.create_index(\n",
    "    collection_name=\"customized_setup\",\n",
    "    index_params=index_params\n",
    ")\n",
    "\n",
    "from pymilvus import MilvusClient, DataType"
   ]
  },
  {
   "cell_type": "code",
   "execution_count": null,
   "metadata": {},
   "outputs": [],
   "source": [
    "\n",
    "\n",
    "index_params.add_index(\n",
    "    field_name=\"vector\",\n",
    "    metric_type=\"COSINE\",\n",
    "    index_type=\"IVF_FLAT\",\n",
    "    index_name=\"vector_index\",\n",
    "    params={ \"nlist\": 128 }\n",
    ")\n",
    "\n",
    "client.create_index(\n",
    "    collection_name=\"knowledge\",\n",
    "    index_params=index_params\n",
    ")\n"
   ]
  },
  {
   "cell_type": "code",
   "execution_count": null,
   "metadata": {},
   "outputs": [],
   "source": [
    "\n",
    "client.list_indexes(\"customized_setup\")\n",
    "\n",
    "client.describe_index(\n",
    "    collection_name=\"customized_setup\",\n",
    "    index_name=\"vector_index\"\n",
    ")"
   ]
  },
  {
   "cell_type": "code",
   "execution_count": null,
   "metadata": {},
   "outputs": [],
   "source": [
    "# 6. Drop index\n",
    "client.drop_index(\n",
    "    collection_name=\"customized_setup\",\n",
    "    index_name=\"vector_index\"\n",
    ")"
   ]
  },
  {
   "cell_type": "markdown",
   "metadata": {},
   "source": [
    "## 5、向量检索\n",
    "\n",
    "### 普通查找\n",
    "直接在collection全量向量中进行查找Top5"
   ]
  },
  {
   "cell_type": "code",
   "execution_count": null,
   "metadata": {},
   "outputs": [],
   "source": [
    "res = client.search(\n",
    "    collection_name=\"test_collection\", # Replace with the actual name of your collection\n",
    "    # Replace with your query vector\n",
    "    data=[[0.3580376395471989, -0.6023495712049978, 0.18414012509913835, -0.26286205330961354, 0.9029438446296592]],\n",
    "    limit=5, # Max. number of search results to return\n",
    "    output_fields=[\"color\"]\n",
    ")\n",
    "\n",
    "# 多query查找\n",
    "res = client.search(\n",
    "    collection_name=\"test_collection\", # Replace with the actual name of your collection\n",
    "    data=[\n",
    "        [0.19886812562848388, 0.06023560599112088, 0.6976963061752597, 0.2614474506242501, 0.838729485096104],\n",
    "        [0.3172005263489739, 0.9719044792798428, -0.36981146090600725, -0.4860894583077995, 0.95791889146345]\n",
    "    ], # Replace with your query vectors\n",
    "    limit=2, # Max. number of search results to return\n",
    "    search_params={\"metric_type\": \"IP\", \"params\": {}} # Search parameters\n",
    ")\n",
    "\n",
    "# 分区查找\n",
    "res = client.search(\n",
    "    collection_name=\"quick_setup\",\n",
    "    data=[[0.3580376395471989, -0.6023495712049978, 0.18414012509913835, -0.26286205330961354, 0.9029438446296592]],\n",
    "    limit=5,\n",
    "    search_params={\"metric_type\": \"IP\", \"params\": {\"level\": 1}},\n",
    "    partition_names=[\"red\"]\n",
    ")"
   ]
  },
  {
   "cell_type": "markdown",
   "metadata": {},
   "source": [
    "### filter 查找"
   ]
  },
  {
   "cell_type": "code",
   "execution_count": null,
   "metadata": {},
   "outputs": [],
   "source": [
    "import json\n",
    "\n",
    "res = client.search(\n",
    "    collection_name=\"quick_setup\", # Replace with the actual name of your collection\n",
    "    # Replace with your query vector\n",
    "    data=[[0.3580376395471989, -0.6023495712049978, 0.18414012509913835, -0.26286205330961354, 0.9029438446296592]],\n",
    "    limit=5, # Max. number of search results to return    \n",
    "    filter='color like \"red%\"'\n",
    ")\n",
    "# print(res)\n",
    "# Convert the output to a formatted JSON string\n",
    "result = json.dumps(res, indent=4)\n",
    "print(result)"
   ]
  },
  {
   "cell_type": "markdown",
   "metadata": {},
   "source": [
    "### Range 查找"
   ]
  },
  {
   "cell_type": "code",
   "execution_count": null,
   "metadata": {},
   "outputs": [],
   "source": [
    "search_params = {    \n",
    "    \"metric_type\": \"L2\",\n",
    "    \"params\": {\n",
    "        \"radius\": 0.5, # Radius of the search circle\n",
    "        \"range_filter\": 1.0 # Range filter to filter out vectors that are not within the search circle\n",
    "    }\n",
    "}\n",
    "\n",
    "res = client.search(\n",
    "    collection_name=\"quick_setup\", # Replace with the actual name of your collection\n",
    "    # Replace with your query vector\n",
    "    data=[[0.3580376395471989, -0.6023495712049978, 0.18414012509913835, -0.26286205330961354, 0.9029438446296592]],\n",
    "    limit=5, # Max. number of search results to return  \n",
    "    search_params=search_params,\n",
    ")"
   ]
  },
  {
   "cell_type": "markdown",
   "metadata": {},
   "source": [
    "### 分组查找"
   ]
  },
  {
   "cell_type": "code",
   "execution_count": null,
   "metadata": {},
   "outputs": [],
   "source": [
    "res = client.search(\n",
    "    collection_name=\"group_search\", # Collection name\n",
    "    data=[[0.14529211512077012, 0.9147257273453546, 0.7965055218724449, 0.7009258593102812, 0.5605206522382088]], # Query vector\n",
    "    search_params={\n",
    "    \"metric_type\": \"L2\",\n",
    "    \"params\": {\"nprobe\": 10},\n",
    "    }, # Search parameters\n",
    "    limit=10, # Max. number of search results to return\n",
    "    group_by_field=\"doc_id\", # Group results by document ID\n",
    "    output_fields=[\"doc_id\", \"passage_id\"]\n",
    ")\n",
    "\n",
    "# Retrieve the values in the `doc_id` column\n",
    "doc_ids = [result['entity']['doc_id'] for result in res[0]]\n"
   ]
  },
  {
   "cell_type": "markdown",
   "metadata": {},
   "source": [
    "### 参数\n",
    "```\n",
    "metric_type：索引算法\n",
    "params.nprobe\n",
    "params.level\n",
    "params.radius\n",
    "params.range_filter\n",
    "\n",
    "```"
   ]
  },
  {
   "cell_type": "code",
   "execution_count": null,
   "metadata": {},
   "outputs": [],
   "source": [
    "search_parameters = {\n",
    "    'metric_type': 'L2',\n",
    "    'params': {\n",
    "        'nprobe': 10,\n",
    "        'level': 1,\n",
    "        'radius': 1.0,\n",
    "        'range_filter': 0.8\n",
    "    }\n",
    "}"
   ]
  }
 ],
 "metadata": {
  "kernelspec": {
   "display_name": "Python 3",
   "language": "python",
   "name": "python3"
  },
  "language_info": {
   "codemirror_mode": {
    "name": "ipython",
    "version": 3
   },
   "file_extension": ".py",
   "mimetype": "text/x-python",
   "name": "python",
   "nbconvert_exporter": "python",
   "pygments_lexer": "ipython3",
   "version": "3.12.3"
  }
 },
 "nbformat": 4,
 "nbformat_minor": 2
}
